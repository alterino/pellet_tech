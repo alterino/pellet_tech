{
 "cells": [
  {
   "cell_type": "code",
   "execution_count": 4,
   "id": "04640a55-b871-42b5-b9e0-0057cbc0277a",
   "metadata": {},
   "outputs": [],
   "source": [
    "import os\n",
    "import utils\n",
    "\n",
    "data_dir = 'data'\n",
    "\n",
    "column_mapping = dict()\n",
    "\n",
    "for extruder in ['EX1', 'EX2', 'EX3', 'EX4']:\n",
    " #   print(extruder)\n",
    "#    breakpoint()\n",
    "\n",
    "    filepath = os.path.join(data_dir, f'{extruder}-6-month.csv')\n",
    "    keys_of_interest, time_keys, field_mapping, column_mapping[extruder], raw_fieldnames = utils.get_extruder_metadata(filepath)"
   ]
  },
  {
   "cell_type": "code",
   "execution_count": 5,
   "id": "8575cf97-86b1-4c57-9937-f1c265a36c7f",
   "metadata": {},
   "outputs": [
    {
     "data": {
      "text/plain": [
       "{'EX1': {'PT_5347.PV (psi)': 'PT_5347.PV',\n",
       "  'ST_5347.PV (RPM)': 'ST_5347.PV',\n",
       "  'SIC_5345.OUT (%)': 'SIC_5345.OUT',\n",
       "  'TT_5347.PV (°F)': 'TT_5347.PV',\n",
       "  'WT_5347.PV (%)': 'WT_5347.PV',\n",
       "  'PJ001959_EWS:RSLinx Enterprise:PJ001992_SITE.IT_5345.PV (Amps)': 'PJ001959_EWS:RSLinx Enterprise:PJ001992_SITE.IT_5345.PV',\n",
       "  'PJ001959_EWS:RSLinx Enterprise:PJ001992_SITE.IT_5405.PV (Amps)': 'PJ001959_EWS:RSLinx Enterprise:PJ001992_SITE.IT_5405.PV',\n",
       "  'PJ001959_EWS:RSLinx Enterprise:PJ001992_SITE.SIC_5405.OUT (%)': 'PJ001959_EWS:RSLinx Enterprise:PJ001992_SITE.SIC_5405.OUT'},\n",
       " 'EX2': {'PT_5352.PV (psi)': 'PT_5352.PV',\n",
       "  'SIC_5350.OUT (%)': 'SIC_5350.OUT',\n",
       "  'ST_5352.PV (RPM)': 'ST_5352.PV',\n",
       "  'TT_5352.PV (°F)': 'TT_5352.PV',\n",
       "  'WT_5352.PV (%)': 'WT_5352.PV',\n",
       "  'PJ001959_EWS:RSLinx Enterprise:PJ001992_SITE.IT_5350.PV (Amps)': 'PJ001959_EWS:RSLinx Enterprise:PJ001992_SITE.IT_5350.PV',\n",
       "  'PJ001959_EWS:RSLinx Enterprise:PJ001992_SITE.IT_5410.PV (Amps)': 'PJ001959_EWS:RSLinx Enterprise:PJ001992_SITE.IT_5410.PV',\n",
       "  'PJ001959_EWS:RSLinx Enterprise:PJ001992_SITE.SIC_5410.OUT (%)': 'PJ001959_EWS:RSLinx Enterprise:PJ001992_SITE.SIC_5410.OUT'},\n",
       " 'EX3': {'PT_5357.PV (psi)': 'PT_5357.PV',\n",
       "  'SIC_5355.OUT (%)': 'SIC_5355.OUT',\n",
       "  'ST_5357.PV (RPM)': 'ST_5357.PV',\n",
       "  'TT_5357.PV (°F)': 'TT_5357.PV',\n",
       "  'WT_5357.PV (%)': 'WT_5357.PV',\n",
       "  'PJ001959_EWS:RSLinx Enterprise:PJ001992_SITE.IT_5355.PV (Amps)': 'PJ001959_EWS:RSLinx Enterprise:PJ001992_SITE.IT_5355.PV',\n",
       "  'PJ001959_EWS:RSLinx Enterprise:PJ001992_SITE.IT_5415.PV (Amps)': 'PJ001959_EWS:RSLinx Enterprise:PJ001992_SITE.IT_5415.PV',\n",
       "  'PJ001959_EWS:RSLinx Enterprise:PJ001992_SITE.SIC_5415.OUT (%)': 'PJ001959_EWS:RSLinx Enterprise:PJ001992_SITE.SIC_5415.OUT'},\n",
       " 'EX4': {'PT_5362.PV (psi)': 'PT_5362.PV',\n",
       "  'SIC_5360.OUT (%)': 'SIC_5360.OUT',\n",
       "  'ST_5362.PV (RPM)': 'ST_5362.PV',\n",
       "  'TT_5362.PV (°F)': 'TT_5362.PV',\n",
       "  'WT_5362.PV (%)': 'WT_5362.PV',\n",
       "  'PJ001959_EWS:RSLinx Enterprise:PJ001992_SITE.IT_5360.PV (Amps)': 'PJ001959_EWS:RSLinx Enterprise:PJ001992_SITE.IT_5360.PV',\n",
       "  'PJ001959_EWS:RSLinx Enterprise:PJ001992_SITE.IT_5420.PV (Amps)': 'PJ001959_EWS:RSLinx Enterprise:PJ001992_SITE.IT_5420.PV',\n",
       "  'PJ001959_EWS:RSLinx Enterprise:PJ001992_SITE.SIC_5420.OUT (%)': 'PJ001959_EWS:RSLinx Enterprise:PJ001992_SITE.SIC_5420.OUT'}}"
      ]
     },
     "execution_count": 5,
     "metadata": {},
     "output_type": "execute_result"
    }
   ],
   "source": [
    "column_mapping"
   ]
  },
  {
   "cell_type": "code",
   "execution_count": 10,
   "id": "2f282225-df30-4e7c-98cd-a8b2d6d7c54b",
   "metadata": {},
   "outputs": [],
   "source": [
    "import pickle\n",
    "with open('column_mappings_by_excode.pkl', 'wb') as f:\n",
    "    pickle.dump(column_mapping, f)"
   ]
  },
  {
   "cell_type": "code",
   "execution_count": null,
   "id": "1d6e76fb-8605-4cc7-83e7-cedc291b445b",
   "metadata": {},
   "outputs": [],
   "source": []
  }
 ],
 "metadata": {
  "kernelspec": {
   "display_name": "Python 3 (ipykernel)",
   "language": "python",
   "name": "python3"
  },
  "language_info": {
   "codemirror_mode": {
    "name": "ipython",
    "version": 3
   },
   "file_extension": ".py",
   "mimetype": "text/x-python",
   "name": "python",
   "nbconvert_exporter": "python",
   "pygments_lexer": "ipython3",
   "version": "3.10.12"
  }
 },
 "nbformat": 4,
 "nbformat_minor": 5
}
