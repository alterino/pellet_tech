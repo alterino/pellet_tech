{
 "cells": [
  {
   "cell_type": "code",
   "execution_count": 7,
   "metadata": {},
   "outputs": [],
   "source": [
    "def clean_data(df):\n",
    "    df = df[(df['Extruder Pressure'] >= 0) & (df['Extruder Pressure'] < 50000)]\n",
    "    \n",
    "    return df"
   ]
  },
  {
   "cell_type": "code",
   "execution_count": 8,
   "metadata": {},
   "outputs": [],
   "source": [
    "def clean_extruder_data(extruder_data):\n",
    "    \n",
    "    extruder_data = extruder_data.drop(extruder_data.index[0])\n",
    "    extruder_data = extruder_data.replace(\"<null>\", None)\n",
    "    \n",
    "    extruder_data = extruder_data.dropna()\n",
    "\n",
    "    # Convert the column to string type\n",
    "    for column in extruder_data.columns:\n",
    "        if column not in [\"Date and Time\", \"AnomalyScore\"]:\n",
    "            extruder_data[column] = extruder_data[column].astype(str)\n",
    "            #extruder_data[column] = extruder_data[column].str.replace(\"<null>\", None)\n",
    "            # Replace commas with an empty string\n",
    "            extruder_data[column] = extruder_data[column].str.replace(\",\", \"\")\n",
    "\n",
    "            # Convert the column back to numeric type, handling any conversion errors\n",
    "            extruder_data[column] = pd.to_numeric(extruder_data[column], errors=\"coerce\")\n",
    "            \n",
    "    extruder_data = extruder_data[(extruder_data['Extruder Pressure'] >= 0) & \\\n",
    "                              (extruder_data['Extruder Pressure'] < 50000)]\n",
    "\n",
    "    extruder_data['Date and Time'] = pd.to_datetime(extruder_data['Date and Time'])\n",
    "    \n",
    "    return extruder_data"
   ]
  },
  {
   "cell_type": "code",
   "execution_count": 9,
   "metadata": {},
   "outputs": [
    {
     "name": "stderr",
     "output_type": "stream",
     "text": [
      "/tmp/ipykernel_48631/454738752.py:8: DtypeWarning: Columns (2,3,4,5,6,7,8) have mixed types. Specify dtype option on import or set low_memory=False.\n",
      "  ex3_data = clean_extruder_data( pd.read_csv(\"ex3-data.csv\") )\n"
     ]
    }
   ],
   "source": [
    "import pandas as pd\n",
    "\n",
    "# BEGIN\n",
    "# input data is dependent on last 12 hours,\n",
    "# so you should just pull the last 12 hours of data for calculation...\n",
    "# and then start from here\n",
    "\n",
    "ex3_data = clean_extruder_data( pd.read_csv(\"ex3-data.csv\") )"
   ]
  },
  {
   "cell_type": "code",
   "execution_count": 10,
   "metadata": {},
   "outputs": [],
   "source": [
    "ex3_data = ex3_data.groupby('Date and Time').mean()\n",
    "\n",
    "ex3_resampled = ex3_data.resample('5T').mean()"
   ]
  },
  {
   "cell_type": "code",
   "execution_count": 11,
   "metadata": {},
   "outputs": [],
   "source": [
    "for time_window in ['5T', '15T', '30T', '1H', '2H', '3H', '6H', '12H']:\n",
    "    if 'T' in time_window:\n",
    "        label_append = time_window.replace('T', 'min')\n",
    "    elif 'H' in time_window:\n",
    "        label_append = time_window.replace('H', 'hour')\n",
    "\n",
    "    col_label = 'pressure-' + label_append + '_avg'\n",
    "    ex3_data[col_label] = ex3_data['Extruder Pressure'].rolling(time_window).mean()"
   ]
  },
  {
   "cell_type": "code",
   "execution_count": 12,
   "metadata": {},
   "outputs": [],
   "source": [
    "variables_to_lag = ['Extruder Die Temp', 'Extruder Thrust',\n",
    "                    'Screw Speed Output']\n",
    "\n",
    "colname_map = {\n",
    "    'Extruder Die Temp' : 'die_temp-',\n",
    "    'Extruder Thrust' : 'thrust-',\n",
    "    'Screw Speed Output' : 'screw_speed_output-',\n",
    "}\n",
    "\n",
    "for time_window in ['5T', '15T', '1H', '3H']:\n",
    "    if 'T' in time_window:\n",
    "        label_append = time_window.replace('T', 'min')\n",
    "    elif 'H' in time_window:\n",
    "        label_append = time_window.replace('H', 'hour')\n",
    "    for lagvar in variables_to_lag:\n",
    "        col_label = colname_map[lagvar] + label_append + '_avg'\n",
    "        ex3_data[col_label] = \\\n",
    "            ex3_data[lagvar].rolling(time_window).mean()"
   ]
  },
  {
   "cell_type": "code",
   "execution_count": 13,
   "metadata": {},
   "outputs": [],
   "source": [
    "# input features for models without screw speed smoothed curves\n",
    "\n",
    "input_features = [\n",
    "    'Screw Speed Output',\n",
    "    'Screw Speed',\n",
    "    'Extruder Die Temp',\n",
    "    'Extruder Thrust',\n",
    "    'Feed Screw Current (Amps)',\n",
    "    'Discharge Conveyor Current (Amps)',\n",
    "    'Discharge Conveyor Speed (%)',\n",
    "    'pressure-5min_avg',\n",
    "    'pressure-15min_avg',\n",
    "    'pressure-30min_avg',\n",
    "    'pressure-1hour_avg',\n",
    "    'pressure-2hour_avg',\n",
    "    'pressure-3hour_avg',\n",
    "    'die_temp-5min_avg',\n",
    "    'thrust-5min_avg',\n",
    "    'die_temp-15min_avg',\n",
    "    'thrust-15min_avg',\n",
    "    'die_temp-1hour_avg',\n",
    "    'thrust-1hour_avg',\n",
    "    'die_temp-3hour_avg',\n",
    "    'thrust-3hour_avg',\n",
    "]"
   ]
  },
  {
   "cell_type": "code",
   "execution_count": 14,
   "metadata": {},
   "outputs": [],
   "source": [
    "model_input = ex3_data[input_features]\n",
    "\n",
    "# should be ready to be input to the models WITHOUT average screw speed"
   ]
  },
  {
   "cell_type": "code",
   "execution_count": 15,
   "metadata": {},
   "outputs": [
    {
     "data": {
      "text/plain": [
       "dict_keys(['5min_stop', '10min_stop', '15min_stop', '30min_stop', '1hour_stop', '2hour_stop', '3hour_stop', '6hour_stop', '12hour_stop', '24hour_stop'])"
      ]
     },
     "execution_count": 15,
     "metadata": {},
     "output_type": "execute_result"
    }
   ],
   "source": [
    "# insert model WITHOUT average screw speed code here\n",
    "import pickle\n",
    "\n",
    "with open('test_ex3.pkl', 'rb') as f:\n",
    "    models, results = pickle.load(f)\n",
    "    \n",
    "models.keys()"
   ]
  },
  {
   "cell_type": "code",
   "execution_count": 22,
   "metadata": {},
   "outputs": [
    {
     "data": {
      "text/plain": [
       "dict_keys(['Logistic Regression', 'Random Forest', 'Support Vector Machine', 'K-Nearest Neighbors', 'Gradient Boosting', 'MLP'])"
      ]
     },
     "execution_count": 22,
     "metadata": {},
     "output_type": "execute_result"
    }
   ],
   "source": [
    "# runs model for failure within a 2 hour window\n",
    "\n",
    "test_model_set = models['2hour_stop']\n",
    "test_model_set.keys()"
   ]
  },
  {
   "cell_type": "code",
   "execution_count": 17,
   "metadata": {},
   "outputs": [],
   "source": [
    "test_model = test_model_set['Random Forest']\n",
    "\n",
    "X_test = model_input.values\n",
    "y_pred = test_model.predict(X_test)"
   ]
  },
  {
   "cell_type": "code",
   "execution_count": 21,
   "metadata": {},
   "outputs": [
    {
     "data": {
      "text/plain": [
       "(102606, 8281)"
      ]
     },
     "execution_count": 21,
     "metadata": {},
     "output_type": "execute_result"
    }
   ],
   "source": [
    "len(y_pred), y_pred.sum()"
   ]
  },
  {
   "cell_type": "code",
   "execution_count": null,
   "metadata": {},
   "outputs": [],
   "source": [
    "# input features for models with screw speed smoothed curves\n",
    "\n",
    "input_features = [\n",
    "    'Screw Speed Output',\n",
    "    'Screw Speed',\n",
    "    'Extruder Die Temp',\n",
    "    'Extruder Thrust',\n",
    "    'Feed Screw Current (Amps)',\n",
    "    'Discharge Conveyor Current (Amps)',\n",
    "    'Discharge Conveyor Speed (%)',\n",
    "    'pressure-5min_avg',\n",
    "    'pressure-15min_avg',\n",
    "    'pressure-30min_avg',\n",
    "    'pressure-1hour_avg',\n",
    "    'pressure-2hour_avg',\n",
    "    'pressure-3hour_avg',\n",
    "    'die_temp-5min_avg',\n",
    "    'thrust-5min_avg',\n",
    "    'screw_speed_output-5min_avg',\n",
    "    'die_temp-15min_avg',\n",
    "    'thrust-15min_avg',\n",
    "    'screw_speed_output-15min_avg',\n",
    "    'die_temp-1hour_avg',\n",
    "    'thrust-1hour_avg',\n",
    "    'screw_speed_output-1hour_avg',\n",
    "    'die_temp-3hour_avg',\n",
    "    'thrust-3hour_avg',\n",
    "    'screw_speed_output-3hour_avg',\n",
    "]"
   ]
  },
  {
   "cell_type": "code",
   "execution_count": null,
   "metadata": {},
   "outputs": [],
   "source": [
    "model_input = ex3_data[input_features]\n",
    "\n",
    "# should be ready to be input to the models WITH average screw speed"
   ]
  },
  {
   "cell_type": "code",
   "execution_count": null,
   "metadata": {},
   "outputs": [],
   "source": [
    "# insert model WITH average screw speed code here"
   ]
  },
  {
   "cell_type": "code",
   "execution_count": null,
   "metadata": {},
   "outputs": [],
   "source": [
    "# won't run, just left here for reference\n",
    "\n",
    "import numpy as np\n",
    "import pandas as pd\n",
    "\n",
    "from sklearn.model_selection import train_test_split, cross_val_score\n",
    "from sklearn.metrics import accuracy_score, confusion_matrix\n",
    "\n",
    "from sklearn.linear_model import LogisticRegression\n",
    "from sklearn.ensemble import RandomForestClassifier, GradientBoostingClassifier\n",
    "from sklearn.neural_network import MLPClassifier\n",
    "from sklearn.svm import SVC\n",
    "from sklearn.neighbors import KNeighborsClassifier\n",
    "\n",
    "import seaborn as sns\n",
    "\n",
    "import time\n",
    "import pickle\n",
    "\n",
    "# Load a dataset (Iris dataset as an example)\n",
    "#data = load_iris()\n",
    "X = model_input.values\n",
    "\n",
    "print('input variables:')\n",
    "for var in model_input.columns:\n",
    "    print(var)\n",
    "#y = model_output.values\n",
    "\n",
    "# Split the data into training and testing sets\n",
    "#X_train, X_test, y_train, y_test = train_test_split(X, y, test_size=0.2, random_state=42)\n",
    "\n",
    "# Define the models to test\n",
    "models = {\n",
    "    'Logistic Regression': LogisticRegression(),\n",
    "    'Random Forest': RandomForestClassifier(),\n",
    "    'Support Vector Machine': SVC(),\n",
    "    'K-Nearest Neighbors': KNeighborsClassifier(),\n",
    "    'Gradient Boosting': GradientBoostingClassifier(),\n",
    "    'MLP' : MLPClassifier(hidden_layer_sizes=(16, 32), max_iter=1000)\n",
    "}\n",
    "\n",
    "# Dictionary to hold the results\n",
    "results = {}\n",
    "output_models = {}\n",
    "\n",
    "saved_processed_data = {}\n",
    "\n",
    "# Iterate over the models, fit, and evaluate them\n",
    "for targ in target_features:\n",
    "    if targ not in results:\n",
    "        start_time = time.time()\n",
    "        \n",
    "        results[targ] = dict()\n",
    "        output_models[targ] = dict()\n",
    "    y = model_output[targ].values\n",
    "    \n",
    "    # Split the data into training and testing sets\n",
    "    X_train, X_test, Y_train, Y_test = train_test_split(X, y, test_size=0.2, random_state=42)\n",
    "    n_true = np.sum((Y_train == 1))\n",
    "    n_false = np.sum((Y_train == 0))\n",
    "    print(f'original true samples: {n_true}, original false samples: {n_false}')\n",
    "    try:\n",
    "        X_train, Y_train = balance_dataset(X_train, Y_train)\n",
    "    except Exception as e:\n",
    "        print(f'errored on balanced dataset: {e}, using raw dataset')\n",
    "    \n",
    "    saved_processed_data[targ] = (X_train, Y_train)\n",
    "    \n",
    "    n_true = np.sum((Y_train == 1))\n",
    "    n_false = np.sum((Y_train == 0))\n",
    "    print(f'balanced true samples: {n_true}, balanced false samples: {n_false}')\n",
    "    for name, model in models.items():\n",
    "        print()\n",
    "        print(f\"Current Time: {time.strftime('%H:%M:%S', time.localtime())}\")\n",
    "        print(f'results for target: {targ}, model: {name}')\n",
    "        model.fit(X_train, Y_train)\n",
    "        output_models[targ][name] = model\n",
    "        \n",
    "        predictions = model.predict(X_test)\n",
    "        \n",
    "        # Compute the confusion matrix\n",
    "        conf_matrix = confusion_matrix(Y_test, predictions)\n",
    "\n",
    "        # Visualize the confusion matrix\n",
    "        accuracy = accuracy_score(Y_test, predictions)\n",
    "        cross_val = cross_val_score(model, X, y, cv=5)\n",
    "        results[targ][name] = {'Accuracy': accuracy, 'Cross-Val Mean': np.mean(cross_val),\n",
    "                              'Confusion_Matrix' : conf_matrix}\n",
    "        \n",
    "        \n",
    "        print(results[targ][name])\n",
    "        print('--------------------------------------')\n",
    "        \n",
    "        duration = time.time() - start_time\n",
    "        print(f\"Run time: {duration / 60:.2f} minutes\")\n",
    "        print(f\"Current Time: {time.strftime('%H:%M:%S', time.localtime())}\")\n",
    "        print('--------------------------------------')\n",
    "        \n",
    "    results_df = pd.DataFrame(results[targ]).T\n",
    "\n",
    "    print()\n",
    "    print()\n"
   ]
  }
 ],
 "metadata": {
  "colab": {
   "provenance": []
  },
  "kernelspec": {
   "display_name": "Python 3 (ipykernel)",
   "language": "python",
   "name": "python3"
  },
  "language_info": {
   "codemirror_mode": {
    "name": "ipython",
    "version": 3
   },
   "file_extension": ".py",
   "mimetype": "text/x-python",
   "name": "python",
   "nbconvert_exporter": "python",
   "pygments_lexer": "ipython3",
   "version": "3.10.12"
  }
 },
 "nbformat": 4,
 "nbformat_minor": 4
}
